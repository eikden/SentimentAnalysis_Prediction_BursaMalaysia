{
 "cells": [
  {
   "cell_type": "code",
   "execution_count": 1,
   "id": "2f519c76-8c87-4575-985e-9e110b76ad00",
   "metadata": {
    "canvas": {
     "comments": [],
     "componentType": "CodeCell",
     "copiedOriginId": null,
     "diskcache": false,
     "headerColor": "none",
     "id": "099311d1-cf84-4e6e-aa3a-ba0b0e030251",
     "isComponent": false,
     "name": "",
     "parents": []
    },
    "tags": []
   },
   "outputs": [],
   "source": [
    "import pandas as pd\n",
    "#!pip install pandas_datareader to validate crypto pricing with specific date\n",
    "import pandas_datareader as web\n",
    "import datetime as dt\n",
    "from datetime import date\n",
    "\n",
    "import seaborn as sns\n",
    "from numerize import numerize\n",
    "import matplotlib.patches as patches\n",
    "import matplotlib.pyplot as plt\n",
    "\n",
    "import warnings\n",
    "warnings.filterwarnings(\"ignore\")"
   ]
  },
  {
   "cell_type": "code",
   "execution_count": 2,
   "id": "5fe4fa16-d317-4e6b-b57b-09657aeb3af6",
   "metadata": {
    "canvas": {
     "comments": [],
     "componentType": "CodeCell",
     "copiedOriginId": null,
     "diskcache": false,
     "headerColor": "none",
     "id": "cff78b08-09ca-44bf-9d18-48703df71a45",
     "isComponent": false,
     "name": "",
     "parents": []
    }
   },
   "outputs": [],
   "source": [
    "#identify specific date to extract\n",
    "start = dt.datetime(2019,7,1)\n",
    "end = dt.datetime(2021,6,30)"
   ]
  },
  {
   "cell_type": "markdown",
   "id": "9c641471-f8f4-45e5-8364-fcb7db586cd4",
   "metadata": {
    "canvas": {
     "comments": [],
     "componentType": "CodeCell",
     "copiedOriginId": null,
     "diskcache": false,
     "headerColor": "none",
     "id": "3a752408-3861-46db-aec9-97fb7a850815",
     "isComponent": false,
     "name": "",
     "parents": []
    }
   },
   "source": [
    "We are target to collect the data from the following stocks:\n",
    "\n",
    "| Stock Name  | Code   |#| Stock Name   | Code   |#| Stock Name   | Code   |#|Stock Name   | Code   |\n",
    "|---|---|---|---|---|---|---|---|---|---|---|\n",
    "|  Nestle | 4707.KL  |#|  IOI | 1961.KL  |#| Malaysia Airport  |  5014.KL |#| RHB  | 1066.KL  |\n",
    "| PPB Group  | 4065.KL  |#| Hap Seng  |  3034.KL |#| Westport  | 5246.KL  |#| Hong Leong  |  5819.KL |\n",
    "| Sime Darby  | 4197.KL  |#| QL Resources  |  7084.KL |#| MISC  |  3816.KL |#| CIMB  | 1023.KL  |\n",
    "| Fraser and Neave  | 3689.KL  |#| Genting |  3182.KL |#| Malakoff  | 5264.KL  |#|IHH  |  5225.KL |\n",
    "| Sarawak Oil Palm  | 5126.KL  |#| Inari  |  0166.KL |#| Tenaga  |  5347.KL |#| Public Bank  |  1295.KL | \n",
    "| Sunway  | 5211.KL  |#| Kerjaya  |  7161.KL |#| MY EG  | 0138.KL  |#|  Maybank  | 1155.KL  | \n",
    "| Ekovest  | 8877.KL  |#| Gadang  |  9261.KL |#| TM  |  4863.KL |#| Hartalega  | 5168.KL  | \n",
    "| Vitrox  | 0097.KL  |#| Econpile  |  5253.KL |#| Axiata  | 6888.KL  |#| Bumi Armada  |  5210.KL |\n",
    "| KLCC  | 5235SS.KL  |#| IGB  |  5227.KL |#| Digi  |  6947.KL |#| Yinson  | 7293.KL  | \n",
    "| Pavilion  | 5212.KL  |#| Greentech  |  7204.KL |#| Maxis  | 6012.KL |#| Topglove  |  7113.KL |\n",
    "| YTL  | 4677.KL  |#| UOA  |  5200.KL |#| Kossan  |  7153.KL |#| Dialog  |  7277.KL |\n",
    "| SP Setia  | 8664.KL  |#| Ecoworld  |  8206.KL |#| KPJ  | 5878.KL  |#| Petronas  | 5681.KL  | \n",
    "| UNISEM | 5005.KL | #| VS | 6963.KL | # | | | #| | |\n",
    "\n"
   ]
  },
  {
   "cell_type": "code",
   "execution_count": 3,
   "id": "dfb94fb5-1657-48a3-beb7-ef966ca43fb0",
   "metadata": {
    "canvas": {
     "comments": [],
     "componentType": "CodeCell",
     "copiedOriginId": null,
     "diskcache": false,
     "headerColor": "none",
     "id": "d4887066-6dd6-4519-8950-5eb356a55f51",
     "isComponent": false,
     "name": "",
     "parents": []
    }
   },
   "outputs": [
    {
     "ename": "TypeError",
     "evalue": "string indices must be integers",
     "output_type": "error",
     "traceback": [
      "\u001b[1;31m---------------------------------------------------------------------------\u001b[0m",
      "\u001b[1;31mTypeError\u001b[0m                                 Traceback (most recent call last)",
      "Input \u001b[1;32mIn [3]\u001b[0m, in \u001b[0;36m<cell line: 2>\u001b[1;34m()\u001b[0m\n\u001b[0;32m      1\u001b[0m \u001b[38;5;66;03m#extract data from yahoo finance\u001b[39;00m\n\u001b[1;32m----> 2\u001b[0m Nestle \u001b[38;5;241m=\u001b[39m \u001b[43mweb\u001b[49m\u001b[38;5;241;43m.\u001b[39;49m\u001b[43mDataReader\u001b[49m\u001b[43m(\u001b[49m\u001b[38;5;124;43m'\u001b[39;49m\u001b[38;5;124;43m4707.KL\u001b[39;49m\u001b[38;5;124;43m'\u001b[39;49m\u001b[43m,\u001b[49m\u001b[38;5;124;43m'\u001b[39;49m\u001b[38;5;124;43myahoo\u001b[39;49m\u001b[38;5;124;43m'\u001b[39;49m\u001b[43m,\u001b[49m\u001b[43m \u001b[49m\u001b[43mstart\u001b[49m\u001b[43m,\u001b[49m\u001b[43m \u001b[49m\u001b[43mend\u001b[49m\u001b[43m)\u001b[49m\n\u001b[0;32m      3\u001b[0m IOI \u001b[38;5;241m=\u001b[39m web\u001b[38;5;241m.\u001b[39mDataReader(\u001b[38;5;124m'\u001b[39m\u001b[38;5;124m1961.KL\u001b[39m\u001b[38;5;124m'\u001b[39m,\u001b[38;5;124m'\u001b[39m\u001b[38;5;124myahoo\u001b[39m\u001b[38;5;124m'\u001b[39m, start, end)\n\u001b[0;32m      4\u001b[0m PBB \u001b[38;5;241m=\u001b[39m web\u001b[38;5;241m.\u001b[39mDataReader(\u001b[38;5;124m'\u001b[39m\u001b[38;5;124m4065.KL\u001b[39m\u001b[38;5;124m'\u001b[39m,\u001b[38;5;124m'\u001b[39m\u001b[38;5;124myahoo\u001b[39m\u001b[38;5;124m'\u001b[39m, start, end)\n",
      "File \u001b[1;32mC:\\ProgramData\\Anaconda3\\envs\\sentiment_3_8\\lib\\site-packages\\pandas\\util\\_decorators.py:207\u001b[0m, in \u001b[0;36mdeprecate_kwarg.<locals>._deprecate_kwarg.<locals>.wrapper\u001b[1;34m(*args, **kwargs)\u001b[0m\n\u001b[0;32m    205\u001b[0m     \u001b[38;5;28;01melse\u001b[39;00m:\n\u001b[0;32m    206\u001b[0m         kwargs[new_arg_name] \u001b[38;5;241m=\u001b[39m new_arg_value\n\u001b[1;32m--> 207\u001b[0m \u001b[38;5;28;01mreturn\u001b[39;00m \u001b[43mfunc\u001b[49m\u001b[43m(\u001b[49m\u001b[38;5;241;43m*\u001b[39;49m\u001b[43margs\u001b[49m\u001b[43m,\u001b[49m\u001b[43m \u001b[49m\u001b[38;5;241;43m*\u001b[39;49m\u001b[38;5;241;43m*\u001b[39;49m\u001b[43mkwargs\u001b[49m\u001b[43m)\u001b[49m\n",
      "File \u001b[1;32mC:\\ProgramData\\Anaconda3\\envs\\sentiment_3_8\\lib\\site-packages\\pandas_datareader\\data.py:370\u001b[0m, in \u001b[0;36mDataReader\u001b[1;34m(name, data_source, start, end, retry_count, pause, session, api_key)\u001b[0m\n\u001b[0;32m    367\u001b[0m     \u001b[38;5;28;01mraise\u001b[39;00m \u001b[38;5;167;01mNotImplementedError\u001b[39;00m(msg)\n\u001b[0;32m    369\u001b[0m \u001b[38;5;28;01mif\u001b[39;00m data_source \u001b[38;5;241m==\u001b[39m \u001b[38;5;124m\"\u001b[39m\u001b[38;5;124myahoo\u001b[39m\u001b[38;5;124m\"\u001b[39m:\n\u001b[1;32m--> 370\u001b[0m     \u001b[38;5;28;01mreturn\u001b[39;00m \u001b[43mYahooDailyReader\u001b[49m\u001b[43m(\u001b[49m\n\u001b[0;32m    371\u001b[0m \u001b[43m        \u001b[49m\u001b[43msymbols\u001b[49m\u001b[38;5;241;43m=\u001b[39;49m\u001b[43mname\u001b[49m\u001b[43m,\u001b[49m\n\u001b[0;32m    372\u001b[0m \u001b[43m        \u001b[49m\u001b[43mstart\u001b[49m\u001b[38;5;241;43m=\u001b[39;49m\u001b[43mstart\u001b[49m\u001b[43m,\u001b[49m\n\u001b[0;32m    373\u001b[0m \u001b[43m        \u001b[49m\u001b[43mend\u001b[49m\u001b[38;5;241;43m=\u001b[39;49m\u001b[43mend\u001b[49m\u001b[43m,\u001b[49m\n\u001b[0;32m    374\u001b[0m \u001b[43m        \u001b[49m\u001b[43madjust_price\u001b[49m\u001b[38;5;241;43m=\u001b[39;49m\u001b[38;5;28;43;01mFalse\u001b[39;49;00m\u001b[43m,\u001b[49m\n\u001b[0;32m    375\u001b[0m \u001b[43m        \u001b[49m\u001b[43mchunksize\u001b[49m\u001b[38;5;241;43m=\u001b[39;49m\u001b[38;5;241;43m25\u001b[39;49m\u001b[43m,\u001b[49m\n\u001b[0;32m    376\u001b[0m \u001b[43m        \u001b[49m\u001b[43mretry_count\u001b[49m\u001b[38;5;241;43m=\u001b[39;49m\u001b[43mretry_count\u001b[49m\u001b[43m,\u001b[49m\n\u001b[0;32m    377\u001b[0m \u001b[43m        \u001b[49m\u001b[43mpause\u001b[49m\u001b[38;5;241;43m=\u001b[39;49m\u001b[43mpause\u001b[49m\u001b[43m,\u001b[49m\n\u001b[0;32m    378\u001b[0m \u001b[43m        \u001b[49m\u001b[43msession\u001b[49m\u001b[38;5;241;43m=\u001b[39;49m\u001b[43msession\u001b[49m\u001b[43m,\u001b[49m\n\u001b[0;32m    379\u001b[0m \u001b[43m    \u001b[49m\u001b[43m)\u001b[49m\u001b[38;5;241;43m.\u001b[39;49m\u001b[43mread\u001b[49m\u001b[43m(\u001b[49m\u001b[43m)\u001b[49m\n\u001b[0;32m    381\u001b[0m \u001b[38;5;28;01melif\u001b[39;00m data_source \u001b[38;5;241m==\u001b[39m \u001b[38;5;124m\"\u001b[39m\u001b[38;5;124miex\u001b[39m\u001b[38;5;124m\"\u001b[39m:\n\u001b[0;32m    382\u001b[0m     \u001b[38;5;28;01mreturn\u001b[39;00m IEXDailyReader(\n\u001b[0;32m    383\u001b[0m         symbols\u001b[38;5;241m=\u001b[39mname,\n\u001b[0;32m    384\u001b[0m         start\u001b[38;5;241m=\u001b[39mstart,\n\u001b[1;32m   (...)\u001b[0m\n\u001b[0;32m    390\u001b[0m         session\u001b[38;5;241m=\u001b[39msession,\n\u001b[0;32m    391\u001b[0m     )\u001b[38;5;241m.\u001b[39mread()\n",
      "File \u001b[1;32mC:\\ProgramData\\Anaconda3\\envs\\sentiment_3_8\\lib\\site-packages\\pandas_datareader\\base.py:253\u001b[0m, in \u001b[0;36m_DailyBaseReader.read\u001b[1;34m(self)\u001b[0m\n\u001b[0;32m    251\u001b[0m \u001b[38;5;66;03m# If a single symbol, (e.g., 'GOOG')\u001b[39;00m\n\u001b[0;32m    252\u001b[0m \u001b[38;5;28;01mif\u001b[39;00m \u001b[38;5;28misinstance\u001b[39m(\u001b[38;5;28mself\u001b[39m\u001b[38;5;241m.\u001b[39msymbols, (string_types, \u001b[38;5;28mint\u001b[39m)):\n\u001b[1;32m--> 253\u001b[0m     df \u001b[38;5;241m=\u001b[39m \u001b[38;5;28;43mself\u001b[39;49m\u001b[38;5;241;43m.\u001b[39;49m\u001b[43m_read_one_data\u001b[49m\u001b[43m(\u001b[49m\u001b[38;5;28;43mself\u001b[39;49m\u001b[38;5;241;43m.\u001b[39;49m\u001b[43murl\u001b[49m\u001b[43m,\u001b[49m\u001b[43m \u001b[49m\u001b[43mparams\u001b[49m\u001b[38;5;241;43m=\u001b[39;49m\u001b[38;5;28;43mself\u001b[39;49m\u001b[38;5;241;43m.\u001b[39;49m\u001b[43m_get_params\u001b[49m\u001b[43m(\u001b[49m\u001b[38;5;28;43mself\u001b[39;49m\u001b[38;5;241;43m.\u001b[39;49m\u001b[43msymbols\u001b[49m\u001b[43m)\u001b[49m\u001b[43m)\u001b[49m\n\u001b[0;32m    254\u001b[0m \u001b[38;5;66;03m# Or multiple symbols, (e.g., ['GOOG', 'AAPL', 'MSFT'])\u001b[39;00m\n\u001b[0;32m    255\u001b[0m \u001b[38;5;28;01melif\u001b[39;00m \u001b[38;5;28misinstance\u001b[39m(\u001b[38;5;28mself\u001b[39m\u001b[38;5;241m.\u001b[39msymbols, DataFrame):\n",
      "File \u001b[1;32mC:\\ProgramData\\Anaconda3\\envs\\sentiment_3_8\\lib\\site-packages\\pandas_datareader\\yahoo\\daily.py:153\u001b[0m, in \u001b[0;36mYahooDailyReader._read_one_data\u001b[1;34m(self, url, params)\u001b[0m\n\u001b[0;32m    151\u001b[0m \u001b[38;5;28;01mtry\u001b[39;00m:\n\u001b[0;32m    152\u001b[0m     j \u001b[38;5;241m=\u001b[39m json\u001b[38;5;241m.\u001b[39mloads(re\u001b[38;5;241m.\u001b[39msearch(ptrn, resp\u001b[38;5;241m.\u001b[39mtext, re\u001b[38;5;241m.\u001b[39mDOTALL)\u001b[38;5;241m.\u001b[39mgroup(\u001b[38;5;241m1\u001b[39m))\n\u001b[1;32m--> 153\u001b[0m     data \u001b[38;5;241m=\u001b[39m \u001b[43mj\u001b[49m\u001b[43m[\u001b[49m\u001b[38;5;124;43m\"\u001b[39;49m\u001b[38;5;124;43mcontext\u001b[39;49m\u001b[38;5;124;43m\"\u001b[39;49m\u001b[43m]\u001b[49m\u001b[43m[\u001b[49m\u001b[38;5;124;43m\"\u001b[39;49m\u001b[38;5;124;43mdispatcher\u001b[39;49m\u001b[38;5;124;43m\"\u001b[39;49m\u001b[43m]\u001b[49m\u001b[43m[\u001b[49m\u001b[38;5;124;43m\"\u001b[39;49m\u001b[38;5;124;43mstores\u001b[39;49m\u001b[38;5;124;43m\"\u001b[39;49m\u001b[43m]\u001b[49m\u001b[43m[\u001b[49m\u001b[38;5;124;43m\"\u001b[39;49m\u001b[38;5;124;43mHistoricalPriceStore\u001b[39;49m\u001b[38;5;124;43m\"\u001b[39;49m\u001b[43m]\u001b[49m\n\u001b[0;32m    154\u001b[0m \u001b[38;5;28;01mexcept\u001b[39;00m \u001b[38;5;167;01mKeyError\u001b[39;00m:\n\u001b[0;32m    155\u001b[0m     msg \u001b[38;5;241m=\u001b[39m \u001b[38;5;124m\"\u001b[39m\u001b[38;5;124mNo data fetched for symbol \u001b[39m\u001b[38;5;132;01m{}\u001b[39;00m\u001b[38;5;124m using \u001b[39m\u001b[38;5;132;01m{}\u001b[39;00m\u001b[38;5;124m\"\u001b[39m\n",
      "\u001b[1;31mTypeError\u001b[0m: string indices must be integers"
     ]
    }
   ],
   "source": [
    "#extract data from yahoo finance\n",
    "Nestle = web.DataReader('4707.KL','yahoo', start, end)\n",
    "IOI = web.DataReader('1961.KL','yahoo', start, end)\n",
    "PBB = web.DataReader('4065.KL','yahoo', start, end)\n",
    "HapSeng = web.DataReader('3034.KL','yahoo', start, end)\n",
    "Sime = web.DataReader('4197.KL','yahoo', start, end)\n",
    "Fraser_Neave = web.DataReader('3689.KL','yahoo', start, end)\n",
    "QL = web.DataReader('7084.KL','yahoo', start, end)\n",
    "Genting = web.DataReader('3182.KL','yahoo', start, end)\n",
    "SOP = web.DataReader('5126.KL','yahoo', start, end)\n",
    "MAHB = web.DataReader('5014.KL','yahoo', start, end)\n",
    "RHB = web.DataReader('1066.KL','yahoo', start, end)\n",
    "Westport = web.DataReader('5246.KL','yahoo', start, end)\n",
    "HongLeong = web.DataReader('5819.KL','yahoo', start, end)\n",
    "MISC = web.DataReader('3816.KL','yahoo', start, end)\n",
    "CIMB = web.DataReader('1023.KL','yahoo', start, end)\n",
    "Malakoff = web.DataReader('5264.KL','yahoo', start, end)\n",
    "IHH = web.DataReader('5225.KL','yahoo', start, end)\n",
    "Tenaga = web.DataReader('5347.KL','yahoo', start, end)\n",
    "Inari = web.DataReader('0166.KL','yahoo', start, end)\n",
    "PublicBank = web.DataReader('1295.KL','yahoo', start, end)\n",
    "Sunway = web.DataReader('5211.KL','yahoo', start, end)\n",
    "Kerjaya = web.DataReader('7161.KL','yahoo', start, end)\n",
    "MyEG = web.DataReader('0138.KL','yahoo', start, end)\n",
    "Maybank = web.DataReader('1155.KL','yahoo', start, end)\n",
    "Ekovest = web.DataReader('8877.KL','yahoo', start, end)\n",
    "Gadang = web.DataReader('9261.KL','yahoo', start, end)\n",
    "TM = web.DataReader('4863.KL','yahoo', start, end)\n",
    "Hartalega = web.DataReader('5168.KL','yahoo', start, end)\n",
    "Vitrox = web.DataReader('0097.KL','yahoo', start, end)\n",
    "Econ = web.DataReader('5253.KL','yahoo', start, end)\n",
    "Axiata = web.DataReader('6888.KL','yahoo', start, end)\n",
    "Bumi = web.DataReader('5210.KL','yahoo', start, end)\n",
    "KLCC = web.DataReader('5235SS.KL','yahoo', start, end)\n",
    "IGB = web.DataReader('5227.KL','yahoo', start, end)\n",
    "Digi = web.DataReader('6947.KL','yahoo', start, end)\n",
    "Yinson = web.DataReader('7293.KL','yahoo', start, end)\n",
    "Pavilion = web.DataReader('5212.KL','yahoo', start, end)\n",
    "EO = web.DataReader('7204.KL','yahoo', start, end)\n",
    "Maxis = web.DataReader('6012.KL','yahoo', start, end)\n",
    "TopGlove = web.DataReader('7113.KL','yahoo', start, end)\n",
    "YTL = web.DataReader('4677.KL','yahoo', start, end)\n",
    "UOA = web.DataReader('5200.KL','yahoo', start, end)\n",
    "Kossan = web.DataReader('7153.KL','yahoo', start, end)\n",
    "Dialog = web.DataReader('7277.KL','yahoo', start, end)\n",
    "SPSetia = web.DataReader('8664.KL','yahoo', start, end)\n",
    "Ecoworld = web.DataReader('8206.KL','yahoo', start, end)\n",
    "KPJ = web.DataReader('5878.KL','yahoo', start, end)\n",
    "PetDag = web.DataReader('5681.KL','yahoo', start, end)\n"
   ]
  },
  {
   "cell_type": "code",
   "execution_count": 14,
   "id": "df9d0d8f-0f60-4961-87bf-fe5dad3a46dc",
   "metadata": {
    "canvas": {
     "comments": [],
     "componentType": "CodeCell",
     "copiedOriginId": null,
     "diskcache": false,
     "headerColor": "none",
     "id": "bcf49ab7-cbed-4bf7-8acd-0a3b6d0a7573",
     "isComponent": false,
     "name": "",
     "parents": []
    }
   },
   "outputs": [],
   "source": [
    "Nestle = Nestle.reset_index()"
   ]
  },
  {
   "cell_type": "code",
   "execution_count": 15,
   "id": "f3e3a8dc-c498-4e03-9faf-1dbbe34c525d",
   "metadata": {
    "canvas": {
     "comments": [],
     "componentType": "CodeCell",
     "copiedOriginId": null,
     "diskcache": false,
     "headerColor": "none",
     "id": "80619e36-08e7-4ea6-ad41-989be21ea587",
     "isComponent": false,
     "name": "",
     "parents": []
    }
   },
   "outputs": [],
   "source": [
    "colors = {'red': '#ff207c', 'grey': '#42535b', 'blue': '#207cff', 'orange': '#ffa320', 'green': '#00ec8b'}\n",
    "config_ticks = {'size': 14, 'color': colors['grey'], 'labelcolor': colors['grey']}\n",
    "config_title = {'size': 18, 'color': colors['grey'], 'ha': 'left', 'va': 'baseline'}"
   ]
  },
  {
   "cell_type": "code",
   "execution_count": 16,
   "id": "3c00f001-1c30-488e-99a2-9cfb47335c87",
   "metadata": {
    "canvas": {
     "comments": [],
     "componentType": "CodeCell",
     "copiedOriginId": null,
     "diskcache": false,
     "headerColor": "none",
     "id": "07334c31-efe4-46dd-87a8-b51f8a5dd7c9",
     "isComponent": false,
     "name": "",
     "parents": []
    }
   },
   "outputs": [],
   "source": [
    "def get_charts(symbol, data, title):\n",
    "    plt.rc('figure', figsize=(15, 10))\n",
    "    \n",
    "    fig, axes = plt.subplots(2, 1, \n",
    "                gridspec_kw={'height_ratios': [3, 1]})\n",
    "    fig.tight_layout(pad=3)\n",
    "    fig.suptitle(title, fontsize=16)\n",
    "    \n",
    "    date = data['Date']\n",
    "    close = data['Close']\n",
    "    vol = data['Volume']\n",
    "    \n",
    "    plot_price = axes[0]\n",
    "    plot_price.plot(date, close, color=colors['blue'], \n",
    "    linewidth=2, label='Price')\n",
    "    plot_price.set_ylabel('Price (in USD)', fontsize=14)\n",
    "    plot_price.set_xlabel('Date', fontsize=14)\n",
    "    \n",
    "    plot_vol = axes[1]\n",
    "    plot_vol.bar(date, vol, width=15, color='darkgrey')\n",
    "    plt.xlabel('Date', fontsize=14)\n",
    "    plt.ylabel('Volume (in millions)', fontsize=14)\n",
    "    \n",
    "    get_percent(symbol, data)"
   ]
  },
  {
   "cell_type": "code",
   "execution_count": 17,
   "id": "c4c60d1f-ed9d-4eb1-a02f-4fe1cc9944de",
   "metadata": {
    "canvas": {
     "comments": [],
     "componentType": "CodeCell",
     "copiedOriginId": null,
     "diskcache": false,
     "headerColor": "none",
     "id": "ad0a7b3e-09a3-451a-8701-1c07c03c3211",
     "isComponent": false,
     "name": "",
     "parents": []
    }
   },
   "outputs": [],
   "source": [
    "def get_percent(symbol, data):\n",
    "    data_percent = (data['Close'].max()/data['Close'].min())*100\n",
    "    print('{0} : {1:.2f}%'.format(symbol, data_percent))"
   ]
  },
  {
   "cell_type": "code",
   "execution_count": 18,
   "id": "726b225e-a67a-476d-9b08-2cf408492cb7",
   "metadata": {
    "canvas": {
     "comments": [],
     "componentType": "CodeCell",
     "copiedOriginId": null,
     "diskcache": false,
     "headerColor": "none",
     "id": "a08db75b-99d2-440b-9a97-d2c63a450e77",
     "isComponent": false,
     "name": "",
     "parents": []
    }
   },
   "outputs": [
    {
     "name": "stdout",
     "output_type": "stream",
     "text": [
      "             High         Low        Open       Close         Volume  \\\n",
      "count  492.000000  492.000000  492.000000  492.000000     492.000000   \n",
      "mean   141.477845  139.892886  140.674390  140.799187   86720.121951   \n",
      "std      4.150030    4.295360    4.212704    4.222151   79451.789309   \n",
      "min    133.500000  120.199997  128.600006  133.000000       0.000000   \n",
      "25%    137.974998  136.474998  137.500000  137.300003   43200.000000   \n",
      "50%    140.600006  139.000000  139.699997  139.800003   67400.000000   \n",
      "75%    145.000000  143.924995  144.500000  144.600006  104000.000000   \n",
      "max    149.899994  148.600006  149.300003  149.600006  917900.000000   \n",
      "\n",
      "        Adj Close  \n",
      "count  492.000000  \n",
      "mean   135.729327  \n",
      "std      2.827900  \n",
      "min    127.306381  \n",
      "25%    133.631302  \n",
      "50%    135.289993  \n",
      "75%    137.915253  \n",
      "max    142.980759  \n",
      "Nestle : 112.48%\n"
     ]
    },
    {
     "data": {
      "image/png": "[encoded data removed]",
      "text/plain": [
       "<Figure size 432x288 with 2 Axes>"
      ]
     },
     "metadata": {
      "needs_background": "light"
     },
     "output_type": "display_data"
    }
   ],
   "source": [
    "print(Nestle.describe())\n",
    "get_charts('Nestle', Nestle , '{2} price from {0} to {1}'.format(start.date(), end.date(), 'Nestle'))"
   ]
  },
  {
   "cell_type": "code",
   "execution_count": null,
   "id": "f6e6f76f-c6cb-4275-ab34-f5fed3e400c3",
   "metadata": {
    "canvas": {
     "comments": [],
     "componentType": "CodeCell",
     "copiedOriginId": null,
     "diskcache": false,
     "headerColor": "none",
     "id": "a0ac3ce2-7d94-4599-8955-355dae327a00",
     "isComponent": false,
     "name": "",
     "parents": []
    }
   },
   "outputs": [],
   "source": []
  }
 ],
 "metadata": {
  "canvas": {
   "colorPalette": [
    "inherit",
    "inherit",
    "inherit",
    "inherit",
    "inherit",
    "inherit",
    "inherit",
    "inherit",
    "inherit",
    "inherit"
   ],
   "parameters": [],
   "version": "1.0"
  },
  "kernelspec": {
   "display_name": "Python 3 (ipykernel)",
   "language": "python",
   "name": "python3"
  },
  "language_info": {
   "codemirror_mode": {
    "name": "ipython",
    "version": 3
   },
   "file_extension": ".py",
   "mimetype": "text/x-python",
   "name": "python",
   "nbconvert_exporter": "python",
   "pygments_lexer": "ipython3",
   "version": "3.8.13"
  }
 },
 "nbformat": 4,
 "nbformat_minor": 5
}
