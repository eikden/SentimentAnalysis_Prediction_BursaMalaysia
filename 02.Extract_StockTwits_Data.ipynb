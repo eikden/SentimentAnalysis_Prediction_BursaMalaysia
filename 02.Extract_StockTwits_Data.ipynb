{
 "cells": [
  {
   "cell_type": "code",
   "execution_count": 1,
   "id": "94505f7c-30ba-4097-8aa5-cfe413d9935b",
   "metadata": {
    "canvas": {
     "comments": [],
     "componentType": "CodeCell",
     "copiedOriginId": null,
     "diskcache": false,
     "headerColor": "none",
     "id": "6a2b3fbf-0650-4f2a-8632-bb296692ca7f",
     "isComponent": false,
     "name": "",
     "parents": []
    },
    "tags": []
   },
   "outputs": [],
   "source": [
    "import tweepy as tw\n",
    "import json\n",
    "import os\n",
    "import requests\n",
    "import sys\n",
    "import warnings\n",
    "import time\n",
    "import random\n",
    "import logging\n",
    "warnings.filterwarnings(\"ignore\")"
   ]
  },
  {
   "cell_type": "code",
   "execution_count": 2,
   "id": "2fb38433-aea7-4340-a983-28c4731086fd",
   "metadata": {
    "canvas": {
     "comments": [],
     "componentType": "CodeCell",
     "copiedOriginId": null,
     "diskcache": false,
     "headerColor": "none",
     "id": "d661df6f-16a1-4240-84ef-77a5772e87be",
     "isComponent": false,
     "name": "",
     "parents": []
    }
   },
   "outputs": [],
   "source": [
    "# Data Science modules\n",
    "import numpy as np\n",
    "import pandas as pd\n",
    "import matplotlib.pyplot as plt\n",
    "import seaborn as sns; sns.set()\n",
    "plt.style.use('ggplot')"
   ]
  },
  {
   "cell_type": "code",
   "execution_count": 3,
   "id": "f23752a9-453f-4a64-8574-51c9511c554f",
   "metadata": {
    "canvas": {
     "comments": [],
     "componentType": "CodeCell",
     "copiedOriginId": null,
     "diskcache": false,
     "headerColor": "none",
     "id": "c73f9bdf-bafd-488d-ac29-3cbb83767190",
     "isComponent": false,
     "name": "",
     "parents": []
    }
   },
   "outputs": [],
   "source": [
    "# returns python object representation of JSON in response\n",
    "def get_response(symbol, older_than, retries=5):\n",
    "    url = 'https://api.stocktwits.com/api/2/streams/symbol/%s.json?max=%d' % (symbol, older_than-1)\n",
    "    for _ in range(retries):\n",
    "        response = requests.get(url)\n",
    "        if response.status_code == 200:\n",
    "            return json.loads(response.content)\n",
    "        elif response.status_code == 429:\n",
    "            print(response.content)\n",
    "            return None\n",
    "        time.sleep(1.0)\n",
    "    # couldn't get response\n",
    "    return None"
   ]
  },
  {
   "cell_type": "code",
   "execution_count": 7,
   "id": "f85c4d10-adef-4214-893d-aec4a50d295d",
   "metadata": {
    "canvas": {
     "comments": [],
     "componentType": "CodeCell",
     "copiedOriginId": null,
     "diskcache": false,
     "headerColor": "none",
     "id": "7e5b9d18-e84c-4fec-8dfa-9156ee12e8b0",
     "isComponent": false,
     "name": "",
     "parents": []
    }
   },
   "outputs": [],
   "source": [
    "# extends the current dataset for a given symbol with more twits\n",
    "def get_older_tweets(symbol, num_queries):    \n",
    "    path = 'Data/StockTwitsData/%s.json' % symbol\n",
    "    if os.path.exists(path):\n",
    "        # extending an existing json file\n",
    "        with open(path, 'r') as f:\n",
    "            data = json.load(f)\n",
    "            if len(data) > 0:\n",
    "                older_than = data[-1]['id']\n",
    "            else:\n",
    "                older_than = 1000000000000\n",
    "    else:\n",
    "        # creating a new json file\n",
    "        data = []\n",
    "        older_than = 1000000000000  # any huge number\n",
    "    \n",
    "    for i in range(num_queries):\n",
    "        content = get_response(symbol, older_than)\n",
    "        if content == None:\n",
    "            print('Error, an API query timed out')\n",
    "            break\n",
    "        data.extend(content['messages'])\n",
    "        older_than = data[-1]['id']\n",
    "        sys.stdout.write('\\rSuccessfully made query %d' % (i+1))\n",
    "        sys.stdout.flush()\n",
    "        # sleep to make sure we don't get throttled\n",
    "        time.sleep(0.5)\n",
    "    \n",
    "    full_data = {}\n",
    "    full_data[\"data\"]=data\n",
    "        \n",
    "    # write the new data to the JSON file\n",
    "    with open(path, 'w') as f:\n",
    "        json.dump(full_data, f)\n",
    "    print\n",
    "    print('...Done')"
   ]
  },
  {
   "cell_type": "code",
   "execution_count": 9,
   "id": "622c9306-be21-4726-920a-a89625d7c927",
   "metadata": {
    "canvas": {
     "comments": [],
     "componentType": "CodeCell",
     "copiedOriginId": null,
     "diskcache": false,
     "headerColor": "none",
     "id": "1c41bc6a-5d42-4282-97b1-2f2282ca64bf",
     "isComponent": false,
     "name": "",
     "parents": []
    }
   },
   "outputs": [
    {
     "name": "stdout",
     "output_type": "stream",
     "text": [
      "Getting tweets for symbol SPY\n",
      "Successfully made query 334...Done\n",
      "Getting tweets for symbol XLC\n",
      "Successfully made query 334...Done\n",
      "Getting tweets for symbol XLY\n",
      "Successfully made query 334...Done\n",
      "Getting tweets for symbol XLP\n",
      "Successfully made query 334...Done\n",
      "Getting tweets for symbol XLE\n",
      "Successfully made query 334...Done\n",
      "Getting tweets for symbol XLF\n",
      "Successfully made query 334...Done\n",
      "Getting tweets for symbol XLV\n",
      "Successfully made query 334...Done\n",
      "Getting tweets for symbol XLI\n",
      "Successfully made query 334...Done\n",
      "Getting tweets for symbol XLB\n",
      "Successfully made query 334...Done\n",
      "Getting tweets for symbol XLRE\n",
      "Successfully made query 334...Done\n",
      "Getting tweets for symbol XLK\n",
      "Successfully made query 334...Done\n",
      "Getting tweets for symbol XLU\n",
      "Successfully made query 334...Done\n"
     ]
    }
   ],
   "source": [
    "symbols = ['SPY', 'XLC', 'XLY', 'XLP', 'XLE', 'XLF','XLV', 'XLI','XLB',\n",
    "           'XLRE', 'XLK','XLU']\n",
    "tweets_per_symbol = 10000\n",
    "for symbol in symbols:\n",
    "    path = 'Data/StockTwits/%s.json' % symbol\n",
    "    if os.path.exists(path):\n",
    "        with open(path, 'r') as f:\n",
    "            num_tweets = len(json.load(f))\n",
    "    else:\n",
    "        num_tweets = 0\n",
    "    num_queries = int((tweets_per_symbol - num_tweets - 1)/30 + 1)\n",
    "    \n",
    "    if num_queries > 0:\n",
    "        print('Getting tweets for symbol %s' % symbol)\n",
    "        get_older_tweets(symbol, num_queries)"
   ]
  },
  {
   "cell_type": "code",
   "execution_count": null,
   "id": "4ad22cf4-e19d-413c-999d-9e8c9386f625",
   "metadata": {
    "canvas": {
     "comments": [],
     "componentType": "CodeCell",
     "copiedOriginId": null,
     "diskcache": false,
     "headerColor": "none",
     "id": "e40f9b4d-cad9-4d5e-88cf-97d5f6ae833f",
     "isComponent": false,
     "name": "",
     "parents": []
    }
   },
   "outputs": [],
   "source": []
  }
 ],
 "metadata": {
  "canvas": {
   "colorPalette": [
    "inherit",
    "inherit",
    "inherit",
    "inherit",
    "inherit",
    "inherit",
    "inherit",
    "inherit",
    "inherit",
    "inherit"
   ],
   "parameters": [],
   "version": "1.0"
  },
  "kernelspec": {
   "display_name": "Python 3 (ipykernel)",
   "language": "python",
   "name": "python3"
  },
  "language_info": {
   "codemirror_mode": {
    "name": "ipython",
    "version": 3
   },
   "file_extension": ".py",
   "mimetype": "text/x-python",
   "name": "python",
   "nbconvert_exporter": "python",
   "pygments_lexer": "ipython3",
   "version": "3.8.13"
  }
 },
 "nbformat": 4,
 "nbformat_minor": 5
}
