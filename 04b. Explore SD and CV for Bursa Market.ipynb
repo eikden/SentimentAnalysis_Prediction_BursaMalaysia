{
 "cells": [
  {
   "cell_type": "code",
   "execution_count": 1,
   "id": "eacd501b",
   "metadata": {
    "canvas": {
     "comments": [],
     "componentType": "CodeCell",
     "copiedOriginId": null,
     "diskcache": false,
     "headerColor": "none",
     "id": "b906a87e-b61a-46ca-a868-debd93c78647",
     "isComponent": false,
     "name": "",
     "parents": []
    },
    "tags": []
   },
   "outputs": [],
   "source": [
    "import pandas as pd"
   ]
  },
  {
   "cell_type": "code",
   "execution_count": 8,
   "id": "8914b64e-abe1-41a6-b871-bb10ffd1214c",
   "metadata": {
    "canvas": {
     "comments": [],
     "componentType": "CodeCell",
     "copiedOriginId": null,
     "diskcache": false,
     "headerColor": "inherit",
     "id": "20a22e8d-915d-43c0-af3d-c8353273bf07",
     "isComponent": false,
     "name": "",
     "parents": []
    }
   },
   "outputs": [],
   "source": [
    "bursa = pd.read_excel(\"Data\\Stocks\\Overall.xlsx\")\n",
    "bursa = bursa.melt(id_vars=['Sector'], value_vars=['Act 1','Act 2', 'Act 3', 'Act 4'], var_name='Percentage_Change')"
   ]
  },
  {
   "cell_type": "code",
   "execution_count": 9,
   "id": "033bdd0b-f2dd-4dac-92b2-84a02ded1c37",
   "metadata": {
    "canvas": {
     "comments": [],
     "componentType": "CodeCell",
     "copiedOriginId": null,
     "diskcache": false,
     "headerColor": "inherit",
     "id": "aaca5a71-f9f7-4e76-947f-e8ff98b08e3f",
     "isComponent": false,
     "name": "",
     "parents": []
    }
   },
   "outputs": [
    {
     "name": "stdout",
     "output_type": "stream",
     "text": [
      "                Sector Percentage_Change       value\n",
      "0           KLSE Index             Act 1  -18.840000\n",
      "1         Construction             Act 1  -41.326521\n",
      "2            Transport             Act 1  -14.955715\n",
      "3             Property             Act 1  -30.831542\n",
      "4               Energy             Act 1  -30.122069\n",
      "5                 REIT             Act 1   -6.726211\n",
      "6              Finance             Act 1  -18.947608\n",
      "7    Telecommunication             Act 1  -10.553274\n",
      "8            Utilities             Act 1  -18.881666\n",
      "9             Consumer             Act 1  -15.331488\n",
      "10          Plantation             Act 1  -22.000748\n",
      "11          Technology             Act 1  -33.087308\n",
      "12          Healthcare             Act 1   -3.053116\n",
      "13  Industrial Product             Act 1  -32.015300\n",
      "14          KLSE Index             Act 2   19.760000\n",
      "15        Construction             Act 2   32.310830\n",
      "16           Transport             Act 2   10.512108\n",
      "17            Property             Act 2   13.738381\n",
      "18              Energy             Act 2   29.594766\n",
      "19                REIT             Act 2    7.430631\n",
      "20             Finance             Act 2   12.003861\n",
      "21   Telecommunication             Act 2   13.636657\n",
      "22           Utilities             Act 2   21.738786\n",
      "23            Consumer             Act 2   14.813112\n",
      "24          Plantation             Act 2   21.966143\n",
      "25          Technology             Act 2   53.730703\n",
      "26          Healthcare             Act 2   64.481603\n",
      "27  Industrial Product             Act 2   18.136651\n",
      "28          KLSE Index             Act 3   -0.550000\n",
      "29        Construction             Act 3  -15.344819\n",
      "30           Transport             Act 3  -11.699665\n",
      "31            Property             Act 3   -9.378184\n",
      "32              Energy             Act 3   -9.153517\n",
      "33                REIT             Act 3   -8.273238\n",
      "34             Finance             Act 3   -6.740294\n",
      "35   Telecommunication             Act 3   -6.281892\n",
      "36           Utilities             Act 3   -2.686869\n",
      "37            Consumer             Act 3   -2.116712\n",
      "38          Plantation             Act 3    4.855116\n",
      "39          Technology             Act 3   39.454851\n",
      "40          Healthcare             Act 3   40.757462\n",
      "41  Industrial Product             Act 3  102.837767\n",
      "42          KLSE Index             Act 4    8.870000\n",
      "43        Construction             Act 4   25.031423\n",
      "44           Transport             Act 4   17.668117\n",
      "45            Property             Act 4   25.100694\n",
      "46              Energy             Act 4   24.340532\n",
      "47                REIT             Act 4    2.583965\n",
      "48             Finance             Act 4   28.487470\n",
      "49   Telecommunication             Act 4   18.463933\n",
      "50           Utilities             Act 4    0.221074\n",
      "51            Consumer             Act 4    1.226652\n",
      "52          Plantation             Act 4    3.600118\n",
      "53          Technology             Act 4   48.952159\n",
      "54          Healthcare             Act 4  -14.610042\n",
      "55  Industrial Product             Act 4   12.308074\n"
     ]
    }
   ],
   "source": [
    "print(bursa)"
   ]
  },
  {
   "cell_type": "code",
   "execution_count": 33,
   "id": "8850f837-bab7-414d-a1be-9915fc4fef12",
   "metadata": {
    "canvas": {
     "comments": [],
     "componentType": "CodeCell",
     "copiedOriginId": null,
     "diskcache": false,
     "headerColor": "inherit",
     "id": "c1c7127a-4387-4229-845c-5bef74c0df95",
     "isComponent": false,
     "name": "",
     "parents": []
    }
   },
   "outputs": [],
   "source": [
    "def get_stats(sector):\n",
    "    mean = sector.groupby(['Sector'])['value'].mean()\n",
    "    std = sector.groupby(['Sector'])['value'].std()\n",
    "    cov = std / mean\n",
    "    return mean, std, cov"
   ]
  },
  {
   "cell_type": "code",
   "execution_count": 34,
   "id": "f3d14352-077d-4e6f-88fb-970b0c62d821",
   "metadata": {
    "canvas": {
     "comments": [],
     "componentType": "CodeCell",
     "copiedOriginId": null,
     "diskcache": false,
     "headerColor": "inherit",
     "id": "b94855b5-7134-4f1d-b6c1-1973456882f1",
     "isComponent": false,
     "name": "",
     "parents": []
    }
   },
   "outputs": [],
   "source": [
    "mean, std, cov = get_stats(bursa)"
   ]
  },
  {
   "cell_type": "code",
   "execution_count": 36,
   "id": "56c77bcf-75f1-4f6b-9e6e-e347d5020cbc",
   "metadata": {
    "canvas": {
     "comments": [],
     "componentType": "CodeCell",
     "copiedOriginId": null,
     "diskcache": false,
     "headerColor": "inherit",
     "id": "171c5353-7e78-4ad4-9a7a-7d90327eb99a",
     "isComponent": false,
     "name": "",
     "parents": []
    }
   },
   "outputs": [
    {
     "name": "stdout",
     "output_type": "stream",
     "text": [
      "Sector\n",
      "Construction           0.167728\n",
      "Consumer              -0.352109\n",
      "Energy                 3.664928\n",
      "Finance                3.700857\n",
      "Healthcare            21.893977\n",
      "Industrial Product    25.316798\n",
      "KLSE Index             2.310000\n",
      "Plantation             2.105157\n",
      "Property              -0.342663\n",
      "REIT                  -1.246213\n",
      "Technology            27.262602\n",
      "Telecommunication      3.816356\n",
      "Transport              0.381211\n",
      "Utilities              0.097831\n",
      "Name: value, dtype: float64\n",
      "Sector\n",
      "Construction          34.707320\n",
      "Consumer              12.382407\n",
      "Energy                28.317903\n",
      "Finance               20.858944\n",
      "Healthcare            37.078465\n",
      "Industrial Product    56.324215\n",
      "KLSE Index            16.360911\n",
      "Plantation            18.123195\n",
      "Property              24.878723\n",
      "REIT                   7.513706\n",
      "Technology            40.668415\n",
      "Telecommunication     14.369536\n",
      "Transport             16.151791\n",
      "Utilities             16.696526\n",
      "Name: value, dtype: float64\n",
      "Sector\n",
      "Construction          206.926154\n",
      "Consumer              -35.166396\n",
      "Energy                  7.726729\n",
      "Finance                 5.636247\n",
      "Healthcare              1.693546\n",
      "Industrial Product      2.224776\n",
      "KLSE Index              7.082645\n",
      "Plantation              8.608950\n",
      "Property              -72.604125\n",
      "REIT                   -6.029230\n",
      "Technology              1.491729\n",
      "Telecommunication       3.765250\n",
      "Transport              42.369656\n",
      "Utilities             170.666715\n",
      "Name: value, dtype: float64\n"
     ]
    }
   ],
   "source": [
    "print(mean)\n",
    "print(std)\n",
    "print(cov)"
   ]
  },
  {
   "cell_type": "code",
   "execution_count": null,
   "id": "58dae727-cd55-48a9-b190-5a9c7e3e9098",
   "metadata": {
    "canvas": {
     "comments": [],
     "componentType": "CodeCell",
     "copiedOriginId": null,
     "diskcache": false,
     "headerColor": "inherit",
     "id": "b3612663-42d4-45ca-9983-5b05ced11724",
     "isComponent": false,
     "name": "",
     "parents": []
    }
   },
   "outputs": [],
   "source": []
  }
 ],
 "metadata": {
  "canvas": {
   "colorPalette": [
    "inherit",
    "inherit",
    "inherit",
    "inherit",
    "inherit",
    "inherit",
    "inherit",
    "inherit",
    "inherit",
    "inherit"
   ],
   "parameters": [],
   "version": "1.0"
  },
  "kernelspec": {
   "display_name": "Python 3 (ipykernel)",
   "language": "python",
   "name": "python3"
  },
  "language_info": {
   "codemirror_mode": {
    "name": "ipython",
    "version": 3
   },
   "file_extension": ".py",
   "mimetype": "text/x-python",
   "name": "python",
   "nbconvert_exporter": "python",
   "pygments_lexer": "ipython3",
   "version": "3.8.13"
  }
 },
 "nbformat": 4,
 "nbformat_minor": 5
}
