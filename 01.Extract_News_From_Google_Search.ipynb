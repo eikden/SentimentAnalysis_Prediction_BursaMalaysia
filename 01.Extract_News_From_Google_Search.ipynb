{
 "cells": [
  {
   "cell_type": "code",
   "execution_count": 1,
   "id": "c31268a5",
   "metadata": {
    "canvas": {
     "comments": [],
     "componentType": "CodeCell",
     "copiedOriginId": null,
     "diskcache": false,
     "headerColor": "none",
     "id": "b5e429e2-1820-44d9-be77-212fdda592a0",
     "isComponent": false,
     "name": "",
     "parents": []
    },
    "tags": []
   },
   "outputs": [],
   "source": [
    "from selenium import webdriver\n",
    "from selenium.webdriver.common.by import By\n",
    "from selenium.webdriver.support.ui import WebDriverWait\n",
    "from selenium.webdriver.support import expected_conditions as EC\n",
    "import pandas as pd\n",
    "import sys\n",
    "import warnings\n",
    "warnings.filterwarnings(\"ignore\")"
   ]
  },
  {
   "cell_type": "markdown",
   "id": "d6642b10-810f-478f-bcb1-083cc6da2ebc",
   "metadata": {
    "canvas": {
     "comments": [],
     "componentType": "CodeCell",
     "copiedOriginId": null,
     "diskcache": false,
     "headerColor": "none",
     "id": "14872477-e77f-473b-bae3-5c93cb97f91c",
     "isComponent": false,
     "name": "",
     "parents": []
    }
   },
   "source": [
    "### Collect Query for Stocks Related Keywords below: ###\n",
    "\n",
    "KLCI, Consumer, Construction, Energy, Finance, Healthcare, Industrial Product, Plantation, Property, REIT, Technology, Telecommunication, Transportation, Utilities\n",
    "\n",
    "Government Policy, Bank Negara, Covid Cases"
   ]
  },
  {
   "cell_type": "code",
   "execution_count": 88,
   "id": "b6a1efd7-b2d1-4006-8c39-9d3225a7c405",
   "metadata": {
    "canvas": {
     "comments": [],
     "componentType": "CodeCell",
     "copiedOriginId": null,
     "diskcache": false,
     "headerColor": "none",
     "id": "b0b78ca8-f5ce-45a2-919a-32b7eaad1462",
     "isComponent": false,
     "name": "",
     "parents": []
    }
   },
   "outputs": [],
   "source": [
    "sector_keywords = {\"keyword\":['KLCI', 'Consumer','Construction', 'Energy' , 'Finance',\n",
    "                             'Healthcare', 'Industrial Product', 'Plantation', 'Property',\n",
    "                             'REIT', 'Technology','Telecommunication', 'Transportation','Utilities']}\n",
    "\n",
    "key_keywords = {\"keyword\":['Malaysia Government Policy', 'Bank Negara Malaysia', 'Covid-19 Malaysia', 'Malaysia Economy','Malaysia Stimulus', \n",
    "                           'Malaysia MCO', 'Malaysia Loan', 'Malaysia Moratorium', 'Malaysia Employment', 'Malaysia Recover Plan']}\n",
    "stock_keywords = {\"keyword\":[ 'Westport', 'Malaysia Airport']}\n",
    "# stock_keywords = {\"keyword\":['Nestle','IOI', 'PPB Group', 'Hap Seng', 'Sime Darby',\n",
    "#                              'QL Resources', 'Fraser and Neave','Genting', 'Sarawak Oil Palm', 'Inari'\n",
    "#                             'Sunway', 'Kerjaya', 'Ekovest', 'Gadang', 'Vitrox'\n",
    "#                             'Econpile', 'KLCC', 'IGB', 'Pavilion', 'Greentech', \n",
    "#                              'YTL', 'UOA', 'SP Setia', 'Ecoworld', 'OSK',\n",
    "#                             'Matrix', 'Petronas', 'Dialog', 'Yinson', 'Bumi Armada',\n",
    "#                             'Maybank', 'Public Bank', 'CIMB', 'Hong Leong', 'RHB',\n",
    "#                             'IHH', 'Hartalega', 'Topglove', 'KPJ', 'Kossan', \n",
    "#                             'Maxis', 'Digi', 'Axiata', 'TM', 'MY EG',\n",
    "#                             'Tenaga', 'Malakoff', 'MISC', 'Westport', 'Malaysia Airport']}\n",
    "\n",
    "df_sector_keywords = pd.DataFrame(sector_keywords)\n",
    "df_key_keywords = pd.DataFrame(key_keywords)\n",
    "df_stock_keywords = pd.DataFrame(stock_keywords)"
   ]
  },
  {
   "cell_type": "code",
   "execution_count": 89,
   "id": "631e242f-6c98-4793-851c-c80f962ecb3c",
   "metadata": {
    "canvas": {
     "comments": [],
     "componentType": "CodeCell",
     "copiedOriginId": null,
     "diskcache": false,
     "headerColor": "none",
     "id": "9e95a26b-bb7b-4490-8622-f02848def0a4",
     "isComponent": false,
     "name": "",
     "parents": []
    }
   },
   "outputs": [
    {
     "name": "stdout",
     "output_type": "stream",
     "text": [
      "started\n",
      "looping\n",
      "Keyword: Malaysia Airport; Page: 9; Item: 9"
     ]
    }
   ],
   "source": [
    "print('started')\n",
    "#options = EdgeOptions()\n",
    "driver = webdriver.Edge()\n",
    "driver.maximize_window()\n",
    "    \n",
    "data = pd.DataFrame()\n",
    "    \n",
    "start_date = '7/1/2020'\n",
    "end_date = '6/30/2021'\n",
    "\n",
    "print('looping')\n",
    "wait = WebDriverWait(driver, 10)\n",
    "for index, row in df_stock_keywords.iterrows():\n",
    "    count = 0\n",
    "    \n",
    "    for i in range(10):\n",
    "        \n",
    "        driver.get(\"https://www.google.com/search?q={0}&biw=1552&bih=716&source=lnt \\\n",
    "                        &tbs=sbd:1,cdr:1,cd_min:{1},cd_max:{2}&tbm=nws&start={3}\".format(row['keyword'], start_date, end_date, count))\n",
    "        count = count + 10\n",
    "        query_data = pd.DataFrame()\n",
    "        \n",
    "        for news_record in range(10):\n",
    "            sys.stdout.write(\"\\rKeyword: {0}; Page: {1}; Item: {2}\".format(row['keyword'], i, news_record))\n",
    "            sys.stdout.flush()                                        \n",
    "            try:\n",
    "                more = wait.until(EC.element_to_be_clickable((By.XPATH, \"/html/body/div[7]/div/div[10]/div/div[2]/div[2]/div/div/div/div/div[{0}]/div/a/div/div[2]/div[1]/span\".format(news_record+1))))\n",
    "                publisher = driver.find_element(By.XPATH, value=\"/html/body/div[7]/div/div[10]/div/div[2]/div[2]/div/div/div/div/div[{0}]/div/a/div/div[2]/div[1]/span\".format(news_record+1))\n",
    "                title = driver.find_element(By.XPATH, value=\"/html/body/div[7]/div/div[10]/div/div[2]/div[2]/div/div/div/div/div[{0}]/div/a/div/div[2]/div[2]\".format(news_record+1))\n",
    "                description = driver.find_element(By.XPATH, value=\"/html/body/div[7]/div/div[10]/div/div[2]/div[2]/div/div/div/div/div[{0}]/div/a/div/div[2]/div[3]\".format(news_record+1))\n",
    "                date = driver.find_element(By.XPATH, value=\"/html/body/div[7]/div/div[10]/div/div[2]/div[2]/div/div/div/div/div[{0}]/div/a/div/div[2]/div[4]/span\".format(news_record+1))                                \n",
    "            except:                               \n",
    "                more = wait.until(EC.element_to_be_clickable((By.XPATH, \"/html/body/div[7]/div/div[10]/div/div[2]/div[2]/div/div/div/div/div[{0}]/div/a/div/div/div[1]/span\".format(news_record+1))))\n",
    "                publisher = driver.find_element(By.XPATH, value=\"/html/body/div[7]/div/div[10]/div/div[2]/div[2]/div/div/div/div/div[{0}]/div/a/div/div/div[1]/span\".format(news_record+1))\n",
    "                title = driver.find_element(By.XPATH, value=\"/html/body/div[7]/div/div[10]/div/div[2]/div[2]/div/div/div/div/div[{0}]/div/a/div/div/div[2]\".format(news_record+1))\n",
    "                description = driver.find_element(By.XPATH, value=\"/html/body/div[7]/div/div[10]/div/div[2]/div[2]/div/div/div/div/div[{0}]/div/a/div/div/div[3]\".format(news_record+1))\n",
    "                date = driver.find_element(By.XPATH, value=\"/html/body/div[7]/div/div[10]/div/div[2]/div[2]/div/div/div/div/div[{0}]/div/a/div/div/div[4]/span\".format(news_record+1))\n",
    "                  \n",
    "            driver.implicitly_wait(1)\n",
    "            \n",
    "            record = pd.DataFrame({\n",
    "                                    'publisher':publisher.text,\n",
    "                                    'title': title.text,\n",
    "                                    'description': description.text,\n",
    "                                    'created_on': date.text,\n",
    "                                    'keyword': row['keyword'] \n",
    "                                }, index=[0])\n",
    "            query_data = pd.concat([query_data, record],ignore_index=True, axis=0)\n",
    "            \n",
    "        data = pd.concat([data, query_data],ignore_index=True, axis=0)\n",
    "            \n",
    "    wait = WebDriverWait(driver, 1)\n",
    "    driver.implicitly_wait(1)\n",
    "\n",
    "driver.quit()\n",
    "    \n",
    "data.reset_index()\n",
    "data.to_csv(r\"Data/News/{0}_new_data.csv\".format('Stock_2021_26'), sep=\"\\t\")"
   ]
  },
  {
   "cell_type": "code",
   "execution_count": null,
   "id": "1b7bd557-aa49-4d00-bbba-d924ac008f88",
   "metadata": {
    "canvas": {
     "comments": [],
     "componentType": "CodeCell",
     "copiedOriginId": null,
     "diskcache": false,
     "headerColor": "none",
     "id": "70e57a99-1d39-4792-9f3c-9664d4443904",
     "isComponent": false,
     "name": "",
     "parents": []
    }
   },
   "outputs": [],
   "source": []
  }
 ],
 "metadata": {
  "canvas": {
   "colorPalette": [
    "inherit",
    "inherit",
    "inherit",
    "inherit",
    "inherit",
    "inherit",
    "inherit",
    "inherit",
    "inherit",
    "inherit"
   ],
   "parameters": [],
   "version": "1.0"
  },
  "kernelspec": {
   "display_name": "Python 3 (ipykernel)",
   "language": "python",
   "name": "python3"
  },
  "language_info": {
   "codemirror_mode": {
    "name": "ipython",
    "version": 3
   },
   "file_extension": ".py",
   "mimetype": "text/x-python",
   "name": "python",
   "nbconvert_exporter": "python",
   "pygments_lexer": "ipython3",
   "version": "3.8.13"
  }
 },
 "nbformat": 4,
 "nbformat_minor": 5
}
