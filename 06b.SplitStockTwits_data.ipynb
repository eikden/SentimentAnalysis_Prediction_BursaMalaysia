{
 "cells": [
  {
   "cell_type": "code",
   "execution_count": 108,
   "id": "0c8733d0",
   "metadata": {
    "canvas": {
     "comments": [],
     "componentType": "CodeCell",
     "copiedOriginId": null,
     "diskcache": false,
     "headerColor": "none",
     "id": "6b61f217-7646-48d5-a4a4-1cdd04701d89",
     "isComponent": false,
     "name": "",
     "parents": []
    },
    "tags": []
   },
   "outputs": [],
   "source": [
    "import pandas as pd\n",
    "\n",
    "df = pd.read_csv('Data/StockTwits/StockTwits_Balance.csv', sep=\"\\t\", low_memory=False)"
   ]
  },
  {
   "cell_type": "code",
   "execution_count": 109,
   "id": "06a71ca8-55a8-4b95-9fce-56e57fc3c132",
   "metadata": {
    "canvas": {
     "comments": [],
     "componentType": "CodeCell",
     "copiedOriginId": null,
     "diskcache": false,
     "headerColor": "none",
     "id": "b72c9bc4-8b08-4a40-bc54-6d04641294c9",
     "isComponent": false,
     "name": "",
     "parents": []
    }
   },
   "outputs": [],
   "source": [
    "df = df.drop(columns=df.columns[0], axis=1)"
   ]
  },
  {
   "cell_type": "code",
   "execution_count": 110,
   "id": "f6d5c7b7-6113-42ff-b74b-110feb6d057b",
   "metadata": {
    "canvas": {
     "comments": [],
     "componentType": "CodeCell",
     "copiedOriginId": null,
     "diskcache": false,
     "headerColor": "none",
     "id": "feb9efea-3a13-4813-8a8a-840ef771447b",
     "isComponent": false,
     "name": "",
     "parents": []
    }
   },
   "outputs": [],
   "source": [
    "df = df.dropna().reset_index(drop=True)\n",
    "df.rename(columns = {'sentence':'text'}, inplace = True)"
   ]
  },
  {
   "cell_type": "code",
   "execution_count": 111,
   "id": "42c8f103-0f6e-451c-9624-87d0f685a71e",
   "metadata": {
    "canvas": {
     "comments": [],
     "componentType": "CodeCell",
     "copiedOriginId": null,
     "diskcache": false,
     "headerColor": "none",
     "id": "c2dc9967-894f-4004-b6d6-4a7daf137827",
     "isComponent": false,
     "name": "",
     "parents": []
    }
   },
   "outputs": [],
   "source": [
    "def update_label(x):\n",
    "    if x == int(2):\n",
    "        return \"positive\"\n",
    "    elif x == int(1):\n",
    "        return \"neutral\"\n",
    "    else:\n",
    "        return \"negative\"\n",
    "df['label'] = df['label'].apply(lambda x: update_label(x))"
   ]
  },
  {
   "cell_type": "code",
   "execution_count": 113,
   "id": "8dfb857c-7799-4b3f-828c-e318270ebeab",
   "metadata": {
    "canvas": {
     "comments": [],
     "componentType": "CodeCell",
     "copiedOriginId": null,
     "diskcache": false,
     "headerColor": "none",
     "id": "0259de42-dc2a-417f-9257-e98fe65bf3d8",
     "isComponent": false,
     "name": "",
     "parents": []
    }
   },
   "outputs": [
    {
     "name": "stdout",
     "output_type": "stream",
     "text": [
      "(83217, 1)\n",
      "(83217,)\n",
      "(10402, 1)\n",
      "(10402,)\n",
      "(10403, 1)\n",
      "(10403,)\n"
     ]
    },
    {
     "data": {
      "text/plain": [
       "(None, None)"
      ]
     },
     "execution_count": 113,
     "metadata": {},
     "output_type": "execute_result"
    }
   ],
   "source": [
    "from sklearn.model_selection import train_test_split\n",
    "\n",
    "# Let's say we want to split the data in 80:10:10 for train:valid:test dataset\n",
    "train_size=0.8\n",
    "\n",
    "X = df.drop(columns = ['org message','label']).copy()\n",
    "y = df['label']\n",
    "\n",
    "# In the first step we will split the data in training and remaining dataset\n",
    "X_train, X_rem, y_train, y_rem = train_test_split(X,y, train_size=0.8)\n",
    "\n",
    "# Now since we want the valid and test size to be equal (10% each of overall data). \n",
    "# we have to define valid_size=0.5 (that is 50% of remaining data)\n",
    "test_size = 0.5\n",
    "X_valid, X_test, y_valid, y_test = train_test_split(X_rem,y_rem, test_size=0.5)\n",
    "\n",
    "print(X_train.shape), print(y_train.shape)\n",
    "print(X_valid.shape), print(y_valid.shape)\n",
    "print(X_test.shape), print(y_test.shape)"
   ]
  },
  {
   "cell_type": "code",
   "execution_count": 114,
   "id": "67ac746e",
   "metadata": {
    "canvas": {
     "comments": [],
     "componentType": "CodeCell",
     "copiedOriginId": null,
     "diskcache": false,
     "headerColor": "none",
     "id": "3dc93adf-e4cb-4aca-b09b-eecdd1bcf6d6",
     "isComponent": false,
     "name": "",
     "parents": []
    }
   },
   "outputs": [
    {
     "data": {
      "text/plain": [
       "40785     neutral\n",
       "68675    negative\n",
       "44286     neutral\n",
       "86949    negative\n",
       "6916     positive\n",
       "           ...   \n",
       "82484    negative\n",
       "84635    positive\n",
       "45178    positive\n",
       "32564    negative\n",
       "80925    negative\n",
       "Name: label, Length: 83217, dtype: object"
      ]
     },
     "execution_count": 114,
     "metadata": {},
     "output_type": "execute_result"
    }
   ],
   "source": [
    "y_train"
   ]
  },
  {
   "cell_type": "code",
   "execution_count": 115,
   "id": "262b0191",
   "metadata": {
    "canvas": {
     "comments": [],
     "componentType": "CodeCell",
     "copiedOriginId": null,
     "diskcache": false,
     "headerColor": "none",
     "id": "ebf4cbc5-d460-4e7e-a0fe-9086c0e54d36",
     "isComponent": false,
     "name": "",
     "parents": []
    }
   },
   "outputs": [
    {
     "data": {
      "text/html": [
       "<div>\n",
       "<style scoped>\n",
       "    .dataframe tbody tr th:only-of-type {\n",
       "        vertical-align: middle;\n",
       "    }\n",
       "\n",
       "    .dataframe tbody tr th {\n",
       "        vertical-align: top;\n",
       "    }\n",
       "\n",
       "    .dataframe thead th {\n",
       "        text-align: right;\n",
       "    }\n",
       "</style>\n",
       "<table border=\"1\" class=\"dataframe\">\n",
       "  <thead>\n",
       "    <tr style=\"text-align: right;\">\n",
       "      <th></th>\n",
       "      <th>text</th>\n",
       "    </tr>\n",
       "  </thead>\n",
       "  <tbody>\n",
       "    <tr>\n",
       "      <th>40785</th>\n",
       "      <td>form k entry material definitive agreement sep...</td>\n",
       "    </tr>\n",
       "    <tr>\n",
       "      <th>68675</th>\n",
       "      <td>limit</td>\n",
       "    </tr>\n",
       "    <tr>\n",
       "      <th>44286</th>\n",
       "      <td>sec form fwp filed goldman sachs group inc sec...</td>\n",
       "    </tr>\n",
       "    <tr>\n",
       "      <th>86949</th>\n",
       "      <td>today sold blah blah blah bought uber</td>\n",
       "    </tr>\n",
       "    <tr>\n",
       "      <th>6916</th>\n",
       "      <td>awesome video exactly every american amp world...</td>\n",
       "    </tr>\n",
       "    <tr>\n",
       "      <th>...</th>\n",
       "      <td>...</td>\n",
       "    </tr>\n",
       "    <tr>\n",
       "      <th>82484</th>\n",
       "      <td>scalping alert time est symbol strat bearish r...</td>\n",
       "    </tr>\n",
       "    <tr>\n",
       "      <th>84635</th>\n",
       "      <td>quick move</td>\n",
       "    </tr>\n",
       "    <tr>\n",
       "      <th>45178</th>\n",
       "      <td>per share good cheap stock</td>\n",
       "    </tr>\n",
       "    <tr>\n",
       "      <th>32564</th>\n",
       "      <td>gsector sell wk ni sre utilities lu fxu growth...</td>\n",
       "    </tr>\n",
       "    <tr>\n",
       "      <th>80925</th>\n",
       "      <td>pe</td>\n",
       "    </tr>\n",
       "  </tbody>\n",
       "</table>\n",
       "<p>83217 rows × 1 columns</p>\n",
       "</div>"
      ],
      "text/plain": [
       "                                                    text\n",
       "40785  form k entry material definitive agreement sep...\n",
       "68675                                              limit\n",
       "44286  sec form fwp filed goldman sachs group inc sec...\n",
       "86949              today sold blah blah blah bought uber\n",
       "6916   awesome video exactly every american amp world...\n",
       "...                                                  ...\n",
       "82484  scalping alert time est symbol strat bearish r...\n",
       "84635                                         quick move\n",
       "45178                         per share good cheap stock\n",
       "32564  gsector sell wk ni sre utilities lu fxu growth...\n",
       "80925                                                 pe\n",
       "\n",
       "[83217 rows x 1 columns]"
      ]
     },
     "execution_count": 115,
     "metadata": {},
     "output_type": "execute_result"
    }
   ],
   "source": [
    "X_train"
   ]
  },
  {
   "cell_type": "code",
   "execution_count": 116,
   "id": "803db69d",
   "metadata": {
    "canvas": {
     "comments": [],
     "componentType": "CodeCell",
     "copiedOriginId": null,
     "diskcache": false,
     "headerColor": "none",
     "id": "f11cc7a5-ee99-49f4-835a-13f4abc9dd8d",
     "isComponent": false,
     "name": "",
     "parents": []
    }
   },
   "outputs": [],
   "source": [
    "train_dataset = pd.concat([X_train,y_train], axis=1)\n",
    "test_dataset = pd.concat([X_test,y_test], axis=1)\n",
    "val_dataset = pd.concat([X_valid,y_valid], axis=1)"
   ]
  },
  {
   "cell_type": "code",
   "execution_count": 117,
   "id": "73c2497c",
   "metadata": {
    "canvas": {
     "comments": [],
     "componentType": "CodeCell",
     "copiedOriginId": null,
     "diskcache": false,
     "headerColor": "none",
     "id": "8b246923-b241-41cb-99b1-291b19c5ee52",
     "isComponent": false,
     "name": "",
     "parents": []
    }
   },
   "outputs": [],
   "source": [
    "train_dataset.to_csv(r\"Data/sentiment_data/train.csv\", sep=\"\\t\")\n",
    "test_dataset.to_csv(r\"Data/sentiment_data/test.csv\", sep=\"\\t\")   \n",
    "val_dataset.to_csv(r\"Data/sentiment_data/validation.csv\", sep=\"\\t\")   "
   ]
  },
  {
   "cell_type": "code",
   "execution_count": null,
   "id": "4cd85826-9db4-4b8c-a438-91c6368d7881",
   "metadata": {
    "canvas": {
     "comments": [],
     "componentType": "CodeCell",
     "copiedOriginId": null,
     "diskcache": false,
     "headerColor": "none",
     "id": "85306648-ba6d-4ce1-9daf-67569ca32433",
     "isComponent": false,
     "name": "",
     "parents": []
    }
   },
   "outputs": [],
   "source": []
  }
 ],
 "metadata": {
  "canvas": {
   "colorPalette": [
    "inherit",
    "inherit",
    "inherit",
    "inherit",
    "inherit",
    "inherit",
    "inherit",
    "inherit",
    "inherit",
    "inherit"
   ],
   "parameters": [],
   "version": "1.0"
  },
  "kernelspec": {
   "display_name": "Python 3 (ipykernel)",
   "language": "python",
   "name": "python3"
  },
  "language_info": {
   "codemirror_mode": {
    "name": "ipython",
    "version": 3
   },
   "file_extension": ".py",
   "mimetype": "text/x-python",
   "name": "python",
   "nbconvert_exporter": "python",
   "pygments_lexer": "ipython3",
   "version": "3.8.13"
  }
 },
 "nbformat": 4,
 "nbformat_minor": 5
}
